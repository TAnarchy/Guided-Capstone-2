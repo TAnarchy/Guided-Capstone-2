{
  "nbformat": 4,
  "nbformat_minor": 0,
  "metadata": {
    "colab": {
      "name": "GuidedCapstoneStep6HL.ipynb",
      "provenance": [],
      "collapsed_sections": [
        "RtEspslPZyGY",
        "s0DokMkAZyGc",
        "2iuitnKcZyHS",
        "iAWQxougZyHW",
        "ThMTimlBZyHZ",
        "QwZ-LkjXZyHt",
        "srtXEA3N4-Y9",
        "ChVreJupZyIA",
        "zDgSSsq1ZyID",
        "I3GYKWfi5Llg",
        "pmMvrhbI-viE",
        "ZXDPkW3UZyIX",
        "Dnc_vHQLZyId",
        "daJxuJ-dZyIg",
        "mAQ-oHiPZyIn",
        "hnGOsp3mZyIp"
      ],
      "toc_visible": true,
      "include_colab_link": true
    },
    "kernelspec": {
      "display_name": "Python 3",
      "language": "python",
      "name": "python3"
    },
    "language_info": {
      "codemirror_mode": {
        "name": "ipython",
        "version": 3
      },
      "file_extension": ".py",
      "mimetype": "text/x-python",
      "name": "python",
      "nbconvert_exporter": "python",
      "pygments_lexer": "ipython3",
      "version": "3.7.3"
    },
    "toc": {
      "base_numbering": "0",
      "nav_menu": {},
      "number_sections": true,
      "sideBar": true,
      "skip_h1_title": false,
      "title_cell": "Table of Contents",
      "title_sidebar": "Contents",
      "toc_cell": true,
      "toc_position": {
        "height": "calc(100% - 180px)",
        "left": "10px",
        "top": "150px",
        "width": "288px"
      },
      "toc_section_display": true,
      "toc_window_display": true
    }
  },
  "cells": [
    {
      "cell_type": "markdown",
      "metadata": {
        "id": "view-in-github",
        "colab_type": "text"
      },
      "source": [
        "<a href=\"https://colab.research.google.com/github/TAnarchy/Guided-Capstone-2/blob/master/GuidedCapstoneStep6HL.ipynb\" target=\"_parent\"><img src=\"https://colab.research.google.com/assets/colab-badge.svg\" alt=\"Open In Colab\"/></a>"
      ]
    },
    {
      "cell_type": "markdown",
      "metadata": {
        "colab_type": "text",
        "id": "cf5CmXQCZyF1"
      },
      "source": [
        "# Guided Capstone Step 6. Documentation"
      ]
    },
    {
      "cell_type": "markdown",
      "metadata": {
        "colab_type": "text",
        "id": "JbZXsVevfr9M"
      },
      "source": [
        "**The Data Science Method**  \n",
        "\n",
        "\n",
        "1.   Problem Identification \n",
        "\n",
        "2.   Data Wrangling \n",
        "  \n",
        "3.   Exploratory Data Analysis \n",
        " \n",
        "4.   Pre-processing and Training Data Development\n",
        "\n",
        "5.  Modeling\n",
        "\n",
        "6.   **Documentation**\n",
        "  * Review the Results\n",
        "  * Finalize Code \n",
        "  * Finalize Documentation\n",
        "  * Create a Project Report \n",
        "  * Create a Slide Deck for the Executive Audience"
      ]
    },
    {
      "cell_type": "markdown",
      "metadata": {
        "colab_type": "text",
        "id": "D-oGciwnGUYk"
      },
      "source": [
        "In this guided capstone we are going to revisit many of the actions we took in the previous guided capstone steps. This gives you the opportunity to practice the code you wrote to solve the questions in step 4 and 5. "
      ]
    },
    {
      "cell_type": "markdown",
      "metadata": {
        "colab_type": "text",
        "id": "K8xfkAqqZyF2"
      },
      "source": [
        "**<font color='teal'> Start by loading the necessary packages and printing out our current working directory just to confirm we are in the correct project directory. </font>**"
      ]
    },
    {
      "cell_type": "code",
      "metadata": {
        "colab_type": "code",
        "id": "ry6WPL5eZyF3",
        "colab": {
          "base_uri": "https://localhost:8080/",
          "height": 51
        },
        "outputId": "693f4412-65b8-4ea6-faa5-4a6f44c06c88"
      },
      "source": [
        "import os\n",
        "import pandas as pd\n",
        "import datetime\n",
        "import seaborn as sns\n",
        "import matplotlib.pyplot as plt\n",
        "import pprint\n",
        "import numpy as np\n",
        "import seaborn as sns\n",
        "from scipy.stats import zscore\n",
        "from sklearn import preprocessing\n",
        "from sklearn import linear_model\n",
        "from sklearn.metrics import explained_variance_score,mean_absolute_error\n",
        "from sklearn.model_selection import train_test_split\n",
        "%matplotlib inline"
      ],
      "execution_count": 1,
      "outputs": [
        {
          "output_type": "stream",
          "text": [
            "/usr/local/lib/python3.6/dist-packages/statsmodels/tools/_testing.py:19: FutureWarning: pandas.util.testing is deprecated. Use the functions in the public API at pandas.testing instead.\n",
            "  import pandas.util.testing as tm\n"
          ],
          "name": "stderr"
        }
      ]
    },
    {
      "cell_type": "markdown",
      "metadata": {
        "colab_type": "text",
        "id": "0HTP9cF2GUYs"
      },
      "source": [
        "## Fit Models with Training Dataset"
      ]
    },
    {
      "cell_type": "markdown",
      "metadata": {
        "colab_type": "text",
        "id": "A2FmSbtCGUYt"
      },
      "source": [
        "**<font color='teal'> Using sklearn fit the model you chose in Guided Capstone 5 on your training dataset. This includes: creating dummy features for states if you need them, scaling the data,and creating train and test splits before fitting the chosen model.Also, remember to generate a model performance score(MAE, or explained variance) based on the testing hold-out data set.</font>**"
      ]
    },
    {
      "cell_type": "markdown",
      "metadata": {
        "colab_type": "text",
        "id": "ReRSy1yFGUYu"
      },
      "source": [
        "#### Best Model "
      ]
    },
    {
      "cell_type": "code",
      "metadata": {
        "colab_type": "code",
        "id": "YRhPGbqPGUYv",
        "outputId": "2d4d08b6-7e4a-4bd8-f550-14d5863725cd",
        "colab": {
          "base_uri": "https://localhost:8080/",
          "height": 34
        }
      },
      "source": [
        "df=pd.read_csv('step3b_clustersw_f.csv')\n",
        "del(df['state'])\n",
        "y=df['AdultWeekend']\n",
        "no_response_var_data=df.drop(df.loc[:,[\"AdultWeekend\",\"Name\"]],axis=1)\n",
        "dropped4 = no_response_var_data.drop(['summit_elev'],axis=1)\n",
        "lm = linear_model.LinearRegression()\n",
        "X_train, X_test, y_train, y_tes=train_test_split(dropped4,y)\n",
        "model4 = lm.fit(X_train,y_train)\n",
        "y_prediction=model4.predict(X_test)\n",
        "print(model4.score(X_test,y_tes))"
      ],
      "execution_count": 2,
      "outputs": [
        {
          "output_type": "stream",
          "text": [
            "0.9021328437346369\n"
          ],
          "name": "stdout"
        }
      ]
    },
    {
      "cell_type": "markdown",
      "metadata": {
        "colab_type": "text",
        "id": "GGizyeLZGUYz"
      },
      "source": [
        "## Review the results "
      ]
    },
    {
      "cell_type": "markdown",
      "metadata": {
        "colab_type": "text",
        "id": "4Lhu-qisGUY0"
      },
      "source": [
        "**<font color='teal'> Now, let's predict the Big Mountain Weekend price with our model in order to provide a recommendation to our managers on how to price the `AdultWeekend` lift ticket. First we need to find the row for Big Mountain resort in our data using string contains or string matching.</font>**"
      ]
    },
    {
      "cell_type": "code",
      "metadata": {
        "colab_type": "code",
        "id": "YXnx_IuEGUY1",
        "outputId": "202426c1-12d4-4340-f894-9ea9cc78c723",
        "colab": {
          "base_uri": "https://localhost:8080/",
          "height": 151
        }
      },
      "source": [
        "df[df['Name'].str.contains('Whitefish Mountain Resort')]"
      ],
      "execution_count": 3,
      "outputs": [
        {
          "output_type": "execute_result",
          "data": {
            "text/html": [
              "<div>\n",
              "<style scoped>\n",
              "    .dataframe tbody tr th:only-of-type {\n",
              "        vertical-align: middle;\n",
              "    }\n",
              "\n",
              "    .dataframe tbody tr th {\n",
              "        vertical-align: top;\n",
              "    }\n",
              "\n",
              "    .dataframe thead th {\n",
              "        text-align: right;\n",
              "    }\n",
              "</style>\n",
              "<table border=\"1\" class=\"dataframe\">\n",
              "  <thead>\n",
              "    <tr style=\"text-align: right;\">\n",
              "      <th></th>\n",
              "      <th>Unnamed: 0</th>\n",
              "      <th>Name</th>\n",
              "      <th>summit_elev</th>\n",
              "      <th>vertical_drop</th>\n",
              "      <th>base_elev</th>\n",
              "      <th>trams</th>\n",
              "      <th>fastEight</th>\n",
              "      <th>fastSixes</th>\n",
              "      <th>fastQuads</th>\n",
              "      <th>quad</th>\n",
              "      <th>triple</th>\n",
              "      <th>double</th>\n",
              "      <th>surface</th>\n",
              "      <th>total_chairs</th>\n",
              "      <th>Runs</th>\n",
              "      <th>TerrainParks</th>\n",
              "      <th>LongestRun_mi</th>\n",
              "      <th>SkiableTerrain_ac</th>\n",
              "      <th>Snow Making_ac</th>\n",
              "      <th>daysOpenLastYear</th>\n",
              "      <th>yearsOpen</th>\n",
              "      <th>averageSnowfall</th>\n",
              "      <th>AdultWeekday</th>\n",
              "      <th>AdultWeekend</th>\n",
              "      <th>projectedDaysOpen</th>\n",
              "      <th>NightSkiing_ac</th>\n",
              "      <th>cluster</th>\n",
              "    </tr>\n",
              "  </thead>\n",
              "  <tbody>\n",
              "    <tr>\n",
              "      <th>151</th>\n",
              "      <td>151</td>\n",
              "      <td>Whitefish Mountain Resort</td>\n",
              "      <td>6817</td>\n",
              "      <td>2353</td>\n",
              "      <td>4464</td>\n",
              "      <td>0</td>\n",
              "      <td>0.0</td>\n",
              "      <td>0</td>\n",
              "      <td>3</td>\n",
              "      <td>2</td>\n",
              "      <td>6</td>\n",
              "      <td>0</td>\n",
              "      <td>3</td>\n",
              "      <td>14</td>\n",
              "      <td>105.0</td>\n",
              "      <td>4.0</td>\n",
              "      <td>3.3</td>\n",
              "      <td>3000.0</td>\n",
              "      <td>600.0</td>\n",
              "      <td>123.0</td>\n",
              "      <td>72.0</td>\n",
              "      <td>333.0</td>\n",
              "      <td>81.0</td>\n",
              "      <td>81.0</td>\n",
              "      <td>123.0</td>\n",
              "      <td>600.0</td>\n",
              "      <td>1</td>\n",
              "    </tr>\n",
              "  </tbody>\n",
              "</table>\n",
              "</div>"
            ],
            "text/plain": [
              "     Unnamed: 0                       Name  ...  NightSkiing_ac  cluster\n",
              "151         151  Whitefish Mountain Resort  ...           600.0        1\n",
              "\n",
              "[1 rows x 27 columns]"
            ]
          },
          "metadata": {
            "tags": []
          },
          "execution_count": 3
        }
      ]
    },
    {
      "cell_type": "markdown",
      "metadata": {
        "colab_type": "text",
        "id": "83-jO9hPGUY4"
      },
      "source": [
        "**<font color='teal'> Prepare the Big Mountain resort data row as you did in the model fitting stage.</font>**"
      ]
    },
    {
      "cell_type": "code",
      "metadata": {
        "colab_type": "code",
        "id": "oWH_q9YOGUY5",
        "colab": {}
      },
      "source": [
        ""
      ],
      "execution_count": 0,
      "outputs": []
    },
    {
      "cell_type": "markdown",
      "metadata": {
        "colab_type": "text",
        "id": "2BCFqZYBGUY9"
      },
      "source": [
        "**<font color='teal'> Predict the Big Mountain resort `Adult Weekend` price and print it out.</font>** This is our expected price to present to management. Based on our model given the characteristics of the resort in comparison to other ski resorts and their unique characteristics."
      ]
    },
    {
      "cell_type": "code",
      "metadata": {
        "colab_type": "code",
        "id": "XebWxxTMGUY-",
        "outputId": "d4b52c4a-79e9-4951-a351-aa910567515e",
        "colab": {
          "base_uri": "https://localhost:8080/",
          "height": 1000
        }
      },
      "source": [
        "type(y_tes)\n",
        "dz = pd.DataFrame({'Actual': y_tes.to_numpy().flatten(), 'Predicted': y_prediction.flatten()})\n",
        "\n",
        "pd.set_option('display.max_rows', None)\n",
        "pd.set_option('display.max_columns', None)\n",
        "pd.set_option('display.width', None)\n",
        "pd.set_option('display.max_colwidth', -1)\n",
        "dz.sort_values(by=['Actual'])"
      ],
      "execution_count": 4,
      "outputs": [
        {
          "output_type": "stream",
          "text": [
            "/usr/local/lib/python3.6/dist-packages/ipykernel_launcher.py:7: FutureWarning: Passing a negative integer is deprecated in version 1.0 and will not be supported in future version. Instead, use None to not limit the column width.\n",
            "  import sys\n"
          ],
          "name": "stderr"
        },
        {
          "output_type": "execute_result",
          "data": {
            "text/html": [
              "<div>\n",
              "<style scoped>\n",
              "    .dataframe tbody tr th:only-of-type {\n",
              "        vertical-align: middle;\n",
              "    }\n",
              "\n",
              "    .dataframe tbody tr th {\n",
              "        vertical-align: top;\n",
              "    }\n",
              "\n",
              "    .dataframe thead th {\n",
              "        text-align: right;\n",
              "    }\n",
              "</style>\n",
              "<table border=\"1\" class=\"dataframe\">\n",
              "  <thead>\n",
              "    <tr style=\"text-align: right;\">\n",
              "      <th></th>\n",
              "      <th>Actual</th>\n",
              "      <th>Predicted</th>\n",
              "    </tr>\n",
              "  </thead>\n",
              "  <tbody>\n",
              "    <tr>\n",
              "      <th>66</th>\n",
              "      <td>25.00000</td>\n",
              "      <td>30.458320</td>\n",
              "    </tr>\n",
              "    <tr>\n",
              "      <th>7</th>\n",
              "      <td>30.00000</td>\n",
              "      <td>39.051518</td>\n",
              "    </tr>\n",
              "    <tr>\n",
              "      <th>48</th>\n",
              "      <td>30.00000</td>\n",
              "      <td>30.071871</td>\n",
              "    </tr>\n",
              "    <tr>\n",
              "      <th>19</th>\n",
              "      <td>32.00000</td>\n",
              "      <td>40.443770</td>\n",
              "    </tr>\n",
              "    <tr>\n",
              "      <th>29</th>\n",
              "      <td>32.00000</td>\n",
              "      <td>37.581172</td>\n",
              "    </tr>\n",
              "    <tr>\n",
              "      <th>5</th>\n",
              "      <td>33.00000</td>\n",
              "      <td>38.985656</td>\n",
              "    </tr>\n",
              "    <tr>\n",
              "      <th>13</th>\n",
              "      <td>34.00000</td>\n",
              "      <td>33.667711</td>\n",
              "    </tr>\n",
              "    <tr>\n",
              "      <th>42</th>\n",
              "      <td>34.00000</td>\n",
              "      <td>40.362858</td>\n",
              "    </tr>\n",
              "    <tr>\n",
              "      <th>11</th>\n",
              "      <td>35.00000</td>\n",
              "      <td>63.390115</td>\n",
              "    </tr>\n",
              "    <tr>\n",
              "      <th>70</th>\n",
              "      <td>39.00000</td>\n",
              "      <td>46.177015</td>\n",
              "    </tr>\n",
              "    <tr>\n",
              "      <th>67</th>\n",
              "      <td>40.00000</td>\n",
              "      <td>43.994373</td>\n",
              "    </tr>\n",
              "    <tr>\n",
              "      <th>75</th>\n",
              "      <td>42.00000</td>\n",
              "      <td>61.052451</td>\n",
              "    </tr>\n",
              "    <tr>\n",
              "      <th>45</th>\n",
              "      <td>42.00000</td>\n",
              "      <td>43.755664</td>\n",
              "    </tr>\n",
              "    <tr>\n",
              "      <th>26</th>\n",
              "      <td>42.00000</td>\n",
              "      <td>48.398717</td>\n",
              "    </tr>\n",
              "    <tr>\n",
              "      <th>72</th>\n",
              "      <td>42.00000</td>\n",
              "      <td>45.262727</td>\n",
              "    </tr>\n",
              "    <tr>\n",
              "      <th>73</th>\n",
              "      <td>44.00000</td>\n",
              "      <td>41.658245</td>\n",
              "    </tr>\n",
              "    <tr>\n",
              "      <th>37</th>\n",
              "      <td>44.00000</td>\n",
              "      <td>41.602920</td>\n",
              "    </tr>\n",
              "    <tr>\n",
              "      <th>76</th>\n",
              "      <td>45.00000</td>\n",
              "      <td>49.671606</td>\n",
              "    </tr>\n",
              "    <tr>\n",
              "      <th>33</th>\n",
              "      <td>45.00000</td>\n",
              "      <td>32.856714</td>\n",
              "    </tr>\n",
              "    <tr>\n",
              "      <th>23</th>\n",
              "      <td>45.00000</td>\n",
              "      <td>53.672087</td>\n",
              "    </tr>\n",
              "    <tr>\n",
              "      <th>50</th>\n",
              "      <td>46.00000</td>\n",
              "      <td>49.844968</td>\n",
              "    </tr>\n",
              "    <tr>\n",
              "      <th>81</th>\n",
              "      <td>46.00000</td>\n",
              "      <td>49.018377</td>\n",
              "    </tr>\n",
              "    <tr>\n",
              "      <th>51</th>\n",
              "      <td>47.00000</td>\n",
              "      <td>45.764378</td>\n",
              "    </tr>\n",
              "    <tr>\n",
              "      <th>78</th>\n",
              "      <td>47.00000</td>\n",
              "      <td>45.390251</td>\n",
              "    </tr>\n",
              "    <tr>\n",
              "      <th>0</th>\n",
              "      <td>48.00000</td>\n",
              "      <td>54.461072</td>\n",
              "    </tr>\n",
              "    <tr>\n",
              "      <th>68</th>\n",
              "      <td>48.00000</td>\n",
              "      <td>31.150903</td>\n",
              "    </tr>\n",
              "    <tr>\n",
              "      <th>6</th>\n",
              "      <td>48.00000</td>\n",
              "      <td>54.258354</td>\n",
              "    </tr>\n",
              "    <tr>\n",
              "      <th>1</th>\n",
              "      <td>48.00000</td>\n",
              "      <td>45.289567</td>\n",
              "    </tr>\n",
              "    <tr>\n",
              "      <th>57</th>\n",
              "      <td>49.00000</td>\n",
              "      <td>53.252241</td>\n",
              "    </tr>\n",
              "    <tr>\n",
              "      <th>35</th>\n",
              "      <td>49.00000</td>\n",
              "      <td>56.349877</td>\n",
              "    </tr>\n",
              "    <tr>\n",
              "      <th>49</th>\n",
              "      <td>49.00000</td>\n",
              "      <td>55.987552</td>\n",
              "    </tr>\n",
              "    <tr>\n",
              "      <th>18</th>\n",
              "      <td>50.00000</td>\n",
              "      <td>51.042828</td>\n",
              "    </tr>\n",
              "    <tr>\n",
              "      <th>56</th>\n",
              "      <td>50.00000</td>\n",
              "      <td>55.976760</td>\n",
              "    </tr>\n",
              "    <tr>\n",
              "      <th>12</th>\n",
              "      <td>52.00000</td>\n",
              "      <td>59.753008</td>\n",
              "    </tr>\n",
              "    <tr>\n",
              "      <th>10</th>\n",
              "      <td>54.00000</td>\n",
              "      <td>63.151314</td>\n",
              "    </tr>\n",
              "    <tr>\n",
              "      <th>46</th>\n",
              "      <td>55.00000</td>\n",
              "      <td>53.003985</td>\n",
              "    </tr>\n",
              "    <tr>\n",
              "      <th>34</th>\n",
              "      <td>59.00000</td>\n",
              "      <td>65.038664</td>\n",
              "    </tr>\n",
              "    <tr>\n",
              "      <th>30</th>\n",
              "      <td>59.00000</td>\n",
              "      <td>60.018565</td>\n",
              "    </tr>\n",
              "    <tr>\n",
              "      <th>47</th>\n",
              "      <td>59.00000</td>\n",
              "      <td>57.816436</td>\n",
              "    </tr>\n",
              "    <tr>\n",
              "      <th>71</th>\n",
              "      <td>59.00000</td>\n",
              "      <td>60.929562</td>\n",
              "    </tr>\n",
              "    <tr>\n",
              "      <th>74</th>\n",
              "      <td>60.00000</td>\n",
              "      <td>57.438862</td>\n",
              "    </tr>\n",
              "    <tr>\n",
              "      <th>43</th>\n",
              "      <td>60.00000</td>\n",
              "      <td>64.269256</td>\n",
              "    </tr>\n",
              "    <tr>\n",
              "      <th>31</th>\n",
              "      <td>63.20000</td>\n",
              "      <td>59.310174</td>\n",
              "    </tr>\n",
              "    <tr>\n",
              "      <th>21</th>\n",
              "      <td>64.00000</td>\n",
              "      <td>68.524839</td>\n",
              "    </tr>\n",
              "    <tr>\n",
              "      <th>53</th>\n",
              "      <td>64.16681</td>\n",
              "      <td>72.349853</td>\n",
              "    </tr>\n",
              "    <tr>\n",
              "      <th>69</th>\n",
              "      <td>64.16681</td>\n",
              "      <td>59.792019</td>\n",
              "    </tr>\n",
              "    <tr>\n",
              "      <th>62</th>\n",
              "      <td>64.16681</td>\n",
              "      <td>63.090719</td>\n",
              "    </tr>\n",
              "    <tr>\n",
              "      <th>52</th>\n",
              "      <td>64.16681</td>\n",
              "      <td>63.914613</td>\n",
              "    </tr>\n",
              "    <tr>\n",
              "      <th>63</th>\n",
              "      <td>64.16681</td>\n",
              "      <td>63.835456</td>\n",
              "    </tr>\n",
              "    <tr>\n",
              "      <th>41</th>\n",
              "      <td>64.16681</td>\n",
              "      <td>68.073965</td>\n",
              "    </tr>\n",
              "    <tr>\n",
              "      <th>40</th>\n",
              "      <td>64.16681</td>\n",
              "      <td>60.082123</td>\n",
              "    </tr>\n",
              "    <tr>\n",
              "      <th>17</th>\n",
              "      <td>64.16681</td>\n",
              "      <td>64.118038</td>\n",
              "    </tr>\n",
              "    <tr>\n",
              "      <th>20</th>\n",
              "      <td>64.16681</td>\n",
              "      <td>71.291898</td>\n",
              "    </tr>\n",
              "    <tr>\n",
              "      <th>77</th>\n",
              "      <td>65.00000</td>\n",
              "      <td>64.810774</td>\n",
              "    </tr>\n",
              "    <tr>\n",
              "      <th>28</th>\n",
              "      <td>65.00000</td>\n",
              "      <td>40.646806</td>\n",
              "    </tr>\n",
              "    <tr>\n",
              "      <th>25</th>\n",
              "      <td>65.00000</td>\n",
              "      <td>57.783503</td>\n",
              "    </tr>\n",
              "    <tr>\n",
              "      <th>79</th>\n",
              "      <td>68.00000</td>\n",
              "      <td>69.550515</td>\n",
              "    </tr>\n",
              "    <tr>\n",
              "      <th>22</th>\n",
              "      <td>68.00000</td>\n",
              "      <td>50.310909</td>\n",
              "    </tr>\n",
              "    <tr>\n",
              "      <th>9</th>\n",
              "      <td>69.00000</td>\n",
              "      <td>65.556065</td>\n",
              "    </tr>\n",
              "    <tr>\n",
              "      <th>60</th>\n",
              "      <td>69.00000</td>\n",
              "      <td>72.551977</td>\n",
              "    </tr>\n",
              "    <tr>\n",
              "      <th>24</th>\n",
              "      <td>69.00000</td>\n",
              "      <td>73.339317</td>\n",
              "    </tr>\n",
              "    <tr>\n",
              "      <th>4</th>\n",
              "      <td>70.00000</td>\n",
              "      <td>53.231021</td>\n",
              "    </tr>\n",
              "    <tr>\n",
              "      <th>82</th>\n",
              "      <td>71.00000</td>\n",
              "      <td>78.965034</td>\n",
              "    </tr>\n",
              "    <tr>\n",
              "      <th>64</th>\n",
              "      <td>71.00000</td>\n",
              "      <td>74.700624</td>\n",
              "    </tr>\n",
              "    <tr>\n",
              "      <th>80</th>\n",
              "      <td>72.00000</td>\n",
              "      <td>64.289058</td>\n",
              "    </tr>\n",
              "    <tr>\n",
              "      <th>58</th>\n",
              "      <td>73.00000</td>\n",
              "      <td>76.882269</td>\n",
              "    </tr>\n",
              "    <tr>\n",
              "      <th>15</th>\n",
              "      <td>75.00000</td>\n",
              "      <td>63.915804</td>\n",
              "    </tr>\n",
              "    <tr>\n",
              "      <th>3</th>\n",
              "      <td>77.00000</td>\n",
              "      <td>76.751854</td>\n",
              "    </tr>\n",
              "    <tr>\n",
              "      <th>59</th>\n",
              "      <td>78.00000</td>\n",
              "      <td>67.129820</td>\n",
              "    </tr>\n",
              "    <tr>\n",
              "      <th>55</th>\n",
              "      <td>84.00000</td>\n",
              "      <td>86.448124</td>\n",
              "    </tr>\n",
              "    <tr>\n",
              "      <th>38</th>\n",
              "      <td>84.00000</td>\n",
              "      <td>77.702878</td>\n",
              "    </tr>\n",
              "    <tr>\n",
              "      <th>61</th>\n",
              "      <td>87.00000</td>\n",
              "      <td>76.455739</td>\n",
              "    </tr>\n",
              "    <tr>\n",
              "      <th>2</th>\n",
              "      <td>88.00000</td>\n",
              "      <td>86.698080</td>\n",
              "    </tr>\n",
              "    <tr>\n",
              "      <th>54</th>\n",
              "      <td>89.00000</td>\n",
              "      <td>86.383184</td>\n",
              "    </tr>\n",
              "    <tr>\n",
              "      <th>44</th>\n",
              "      <td>92.00000</td>\n",
              "      <td>74.214758</td>\n",
              "    </tr>\n",
              "    <tr>\n",
              "      <th>16</th>\n",
              "      <td>98.00000</td>\n",
              "      <td>83.856816</td>\n",
              "    </tr>\n",
              "    <tr>\n",
              "      <th>32</th>\n",
              "      <td>99.00000</td>\n",
              "      <td>89.132514</td>\n",
              "    </tr>\n",
              "    <tr>\n",
              "      <th>39</th>\n",
              "      <td>99.00000</td>\n",
              "      <td>100.218513</td>\n",
              "    </tr>\n",
              "    <tr>\n",
              "      <th>27</th>\n",
              "      <td>110.00000</td>\n",
              "      <td>105.991120</td>\n",
              "    </tr>\n",
              "    <tr>\n",
              "      <th>8</th>\n",
              "      <td>119.00000</td>\n",
              "      <td>105.429966</td>\n",
              "    </tr>\n",
              "    <tr>\n",
              "      <th>65</th>\n",
              "      <td>125.00000</td>\n",
              "      <td>117.181267</td>\n",
              "    </tr>\n",
              "    <tr>\n",
              "      <th>14</th>\n",
              "      <td>169.00000</td>\n",
              "      <td>157.530334</td>\n",
              "    </tr>\n",
              "    <tr>\n",
              "      <th>36</th>\n",
              "      <td>179.00000</td>\n",
              "      <td>168.047866</td>\n",
              "    </tr>\n",
              "  </tbody>\n",
              "</table>\n",
              "</div>"
            ],
            "text/plain": [
              "       Actual   Predicted\n",
              "66  25.00000   30.458320 \n",
              "7   30.00000   39.051518 \n",
              "48  30.00000   30.071871 \n",
              "19  32.00000   40.443770 \n",
              "29  32.00000   37.581172 \n",
              "5   33.00000   38.985656 \n",
              "13  34.00000   33.667711 \n",
              "42  34.00000   40.362858 \n",
              "11  35.00000   63.390115 \n",
              "70  39.00000   46.177015 \n",
              "67  40.00000   43.994373 \n",
              "75  42.00000   61.052451 \n",
              "45  42.00000   43.755664 \n",
              "26  42.00000   48.398717 \n",
              "72  42.00000   45.262727 \n",
              "73  44.00000   41.658245 \n",
              "37  44.00000   41.602920 \n",
              "76  45.00000   49.671606 \n",
              "33  45.00000   32.856714 \n",
              "23  45.00000   53.672087 \n",
              "50  46.00000   49.844968 \n",
              "81  46.00000   49.018377 \n",
              "51  47.00000   45.764378 \n",
              "78  47.00000   45.390251 \n",
              "0   48.00000   54.461072 \n",
              "68  48.00000   31.150903 \n",
              "6   48.00000   54.258354 \n",
              "1   48.00000   45.289567 \n",
              "57  49.00000   53.252241 \n",
              "35  49.00000   56.349877 \n",
              "49  49.00000   55.987552 \n",
              "18  50.00000   51.042828 \n",
              "56  50.00000   55.976760 \n",
              "12  52.00000   59.753008 \n",
              "10  54.00000   63.151314 \n",
              "46  55.00000   53.003985 \n",
              "34  59.00000   65.038664 \n",
              "30  59.00000   60.018565 \n",
              "47  59.00000   57.816436 \n",
              "71  59.00000   60.929562 \n",
              "74  60.00000   57.438862 \n",
              "43  60.00000   64.269256 \n",
              "31  63.20000   59.310174 \n",
              "21  64.00000   68.524839 \n",
              "53  64.16681   72.349853 \n",
              "69  64.16681   59.792019 \n",
              "62  64.16681   63.090719 \n",
              "52  64.16681   63.914613 \n",
              "63  64.16681   63.835456 \n",
              "41  64.16681   68.073965 \n",
              "40  64.16681   60.082123 \n",
              "17  64.16681   64.118038 \n",
              "20  64.16681   71.291898 \n",
              "77  65.00000   64.810774 \n",
              "28  65.00000   40.646806 \n",
              "25  65.00000   57.783503 \n",
              "79  68.00000   69.550515 \n",
              "22  68.00000   50.310909 \n",
              "9   69.00000   65.556065 \n",
              "60  69.00000   72.551977 \n",
              "24  69.00000   73.339317 \n",
              "4   70.00000   53.231021 \n",
              "82  71.00000   78.965034 \n",
              "64  71.00000   74.700624 \n",
              "80  72.00000   64.289058 \n",
              "58  73.00000   76.882269 \n",
              "15  75.00000   63.915804 \n",
              "3   77.00000   76.751854 \n",
              "59  78.00000   67.129820 \n",
              "55  84.00000   86.448124 \n",
              "38  84.00000   77.702878 \n",
              "61  87.00000   76.455739 \n",
              "2   88.00000   86.698080 \n",
              "54  89.00000   86.383184 \n",
              "44  92.00000   74.214758 \n",
              "16  98.00000   83.856816 \n",
              "32  99.00000   89.132514 \n",
              "39  99.00000   100.218513\n",
              "27  110.00000  105.991120\n",
              "8   119.00000  105.429966\n",
              "65  125.00000  117.181267\n",
              "14  169.00000  157.530334\n",
              "36  179.00000  168.047866"
            ]
          },
          "metadata": {
            "tags": []
          },
          "execution_count": 4
        }
      ]
    },
    {
      "cell_type": "markdown",
      "metadata": {
        "colab_type": "text",
        "id": "_5BvguMLGUZB"
      },
      "source": [
        "**<font color='teal'> Print the Big Mountain resort actual `Adult Weekend` price.</font>**"
      ]
    },
    {
      "cell_type": "code",
      "metadata": {
        "colab_type": "code",
        "id": "WyxTHtL2GUZC",
        "outputId": "f188a6a7-7fb2-4929-f39b-28cc4ab99178",
        "colab": {
          "base_uri": "https://localhost:8080/",
          "height": 51
        }
      },
      "source": [
        "df[df['Name'].str.contains('Whitefish Mountain Resort')]['AdultWeekend']\n",
        "\n"
      ],
      "execution_count": 5,
      "outputs": [
        {
          "output_type": "execute_result",
          "data": {
            "text/plain": [
              "151    81.0\n",
              "Name: AdultWeekend, dtype: float64"
            ]
          },
          "metadata": {
            "tags": []
          },
          "execution_count": 5
        }
      ]
    },
    {
      "cell_type": "markdown",
      "metadata": {
        "colab_type": "text",
        "id": "O0Yli8MXGUZH"
      },
      "source": [
        "**<font color='teal'> As part of reviewing the results it is an important step to generate figures to visualize the data story. We can use the clusters we added to our data frame to create scatter plots for visualizing the Adult Weekend values compared to other characteristics. Run the example below to get you started and build two or three more figures to include in your data story telling.</font>**"
      ]
    },
    {
      "cell_type": "code",
      "metadata": {
        "colab_type": "code",
        "id": "xWtr873fGUZI",
        "outputId": "f5c4578e-34eb-4e4c-a277-cf0bb990e720",
        "colab": {
          "base_uri": "https://localhost:8080/",
          "height": 296
        }
      },
      "source": [
        "plt.scatter(df['summit_elev'], df['vertical_drop'], c=df['cluster'], s=50, cmap='viridis', label ='clusters')\n",
        "plt.scatter(df['summit_elev'], df['vertical_drop'], c='black', s=100)\n",
        "plt.xlabel('summit_elev')\n",
        "plt.ylabel('vertical_drop')\n",
        "plt.title('summit_elev by vertical_drop by cluster')\n",
        "plt.savefig('fig1.png',bbox_inches='tight')"
      ],
      "execution_count": 6,
      "outputs": [
        {
          "output_type": "display_data",
          "data": {
            "image/png": "[encoded data removed]",
            "text/plain": [
              "<Figure size 432x288 with 1 Axes>"
            ]
          },
          "metadata": {
            "tags": [],
            "needs_background": "light"
          }
        }
      ]
    },
    {
      "cell_type": "code",
      "metadata": {
        "colab_type": "code",
        "id": "530JtuJxGUZL",
        "colab": {}
      },
      "source": [
        ""
      ],
      "execution_count": 0,
      "outputs": []
    },
    {
      "cell_type": "code",
      "metadata": {
        "colab_type": "code",
        "id": "kGvf4kTwGUZR",
        "colab": {}
      },
      "source": [
        ""
      ],
      "execution_count": 0,
      "outputs": []
    },
    {
      "cell_type": "code",
      "metadata": {
        "colab_type": "code",
        "id": "OYZB84hYGUZU",
        "colab": {}
      },
      "source": [
        ""
      ],
      "execution_count": 0,
      "outputs": []
    },
    {
      "cell_type": "markdown",
      "metadata": {
        "colab_type": "text",
        "id": "giLKE2WMGUZh"
      },
      "source": [
        "## Finalize Code"
      ]
    },
    {
      "cell_type": "markdown",
      "metadata": {
        "colab_type": "text",
        "id": "pps_ASHoGUZi"
      },
      "source": [
        " Making sure our code is well organized and easy to follow is an important step. This is the time where you need to review the notebooks and Python scripts you've created and clean them up so they are easy to follow and succinct in nature. Addtionally, we will also save our final model as a callable object using Pickle for future use in a data pipeline. Pickle is a module that serializes (and de-serializes) Python objects so that they can become executable objects like functions. It's used extensively in production environments where machine learning models are deployed on an industrial scale!**<font color='teal'> Run the example code below to save out your callable model. Notice that we save it in the models folder we created in our previous guided capstone step.</font>** "
      ]
    },
    {
      "cell_type": "code",
      "metadata": {
        "colab_type": "code",
        "id": "X_h0tkt_GUZj",
        "outputId": "d890381b-01a1-4199-f355-53946b189c7d",
        "colab": {
          "base_uri": "https://localhost:8080/",
          "height": 34
        }
      },
      "source": [
        "import pickle\n",
        "s = pickle.dumps(model4)\n",
        "from joblib import dump, load\n",
        "dump(model4, 'regression_model_adultweekend.joblib') "
      ],
      "execution_count": 7,
      "outputs": [
        {
          "output_type": "execute_result",
          "data": {
            "text/plain": [
              "['regression_model_adultweekend.joblib']"
            ]
          },
          "metadata": {
            "tags": []
          },
          "execution_count": 7
        }
      ]
    },
    {
      "cell_type": "markdown",
      "metadata": {
        "colab_type": "text",
        "id": "MTVrVlerGUZn"
      },
      "source": [
        "## Finalize Documentation"
      ]
    },
    {
      "cell_type": "markdown",
      "metadata": {
        "colab_type": "text",
        "id": "thEMyu-DGUZo"
      },
      "source": [
        "For model documentation, we want to save the model performance metrics as well as the features included in the final model. You could also save the model perfomance metrics and coefficients fo the other models you tried in case you want to refer to them later. **<font color='teal'> Create a dataframe containing the coefficients and the model performance metrics and save it out as a csv file, then upload it to your github repository.</font>** "
      ]
    },
    {
      "cell_type": "code",
      "metadata": {
        "colab_type": "code",
        "id": "278tnHLlGUZp",
        "colab": {}
      },
      "source": [
        "np.savetxt(\"coefficient.csv\",model4.coef_,delimiter=\",\")"
      ],
      "execution_count": 0,
      "outputs": []
    },
    {
      "cell_type": "code",
      "metadata": {
        "colab_type": "code",
        "id": "4CEOoBLFGUZr",
        "colab": {}
      },
      "source": [
        ""
      ],
      "execution_count": 0,
      "outputs": []
    }
  ]
}