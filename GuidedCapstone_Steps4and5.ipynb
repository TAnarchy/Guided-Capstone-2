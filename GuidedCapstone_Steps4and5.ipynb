{
  "nbformat": 4,
  "nbformat_minor": 0,
  "metadata": {
    "colab": {
      "name": "GuidedCapstone_Steps4and5.ipynb",
      "provenance": [],
      "collapsed_sections": [
        "RtEspslPZyGY",
        "s0DokMkAZyGc",
        "2iuitnKcZyHS",
        "iAWQxougZyHW",
        "ThMTimlBZyHZ",
        "QwZ-LkjXZyHt",
        "srtXEA3N4-Y9",
        "ChVreJupZyIA",
        "zDgSSsq1ZyID",
        "I3GYKWfi5Llg",
        "pmMvrhbI-viE",
        "ZXDPkW3UZyIX",
        "Dnc_vHQLZyId",
        "daJxuJ-dZyIg",
        "mAQ-oHiPZyIn",
        "hnGOsp3mZyIp"
      ],
      "toc_visible": true
    },
    "kernelspec": {
      "display_name": "Python 3",
      "language": "python",
      "name": "python3"
    },
    "language_info": {
      "codemirror_mode": {
        "name": "ipython",
        "version": 3
      },
      "file_extension": ".py",
      "mimetype": "text/x-python",
      "name": "python",
      "nbconvert_exporter": "python",
      "pygments_lexer": "ipython3",
      "version": "3.7.3"
    },
    "toc": {
      "base_numbering": "0",
      "nav_menu": {},
      "number_sections": true,
      "sideBar": true,
      "skip_h1_title": false,
      "title_cell": "Table of Contents",
      "title_sidebar": "Contents",
      "toc_cell": true,
      "toc_position": {
        "height": "calc(100% - 180px)",
        "left": "10px",
        "top": "150px",
        "width": "288px"
      },
      "toc_section_display": true,
      "toc_window_display": true
    }
  },
  "cells": [
    {
      "cell_type": "markdown",
      "metadata": {
        "colab_type": "text",
        "id": "cf5CmXQCZyF1"
      },
      "source": [
        "# Guided Capstone Step 4 - Pre-processing and Training Data Development"
      ]
    },
    {
      "cell_type": "markdown",
      "metadata": {
        "colab_type": "text",
        "id": "JbZXsVevfr9M"
      },
      "source": [
        "### **The Data Science Method**  \n",
        "\n",
        "\n",
        "1.   Problem Identification \n",
        "\n",
        "2.   Data Wrangling \n",
        "  \n",
        "3.   Exploratory Data Analysis \n",
        " \n",
        "4.   **Pre-processing and Training Data Development**\n",
        "\n",
        "5.  Modeling\n",
        "  * Fit Models with Training Data Set\n",
        "  * Review Model Outcomes — Iterate over additional models as needed.\n",
        "  * Identify the Final Model\n",
        "\n",
        "6.   Documentation\n",
        "  * Review the Results\n",
        "  * Present and share your findings - storytelling\n",
        "  * Finalize Code \n",
        "  * Finalize Documentation"
      ]
    },
    {
      "cell_type": "markdown",
      "metadata": {
        "colab_type": "text",
        "id": "GyZga0DpAnq7"
      },
      "source": [
        "In this step of the guided capstone, you'll revisit some of the steps you completed to solve questions in step 4. Revisiting these steps will help you get additional practice completing this kind of work."
      ]
    },
    {
      "cell_type": "markdown",
      "metadata": {
        "colab_type": "text",
        "id": "K8xfkAqqZyF2"
      },
      "source": [
        "**<font color='teal'> Start by loading the necessary packages, as you've done in the previous steps. Print out your current working directory to confirm that you are in the correct project directory. </font>**"
      ]
    },
    {
      "cell_type": "code",
      "metadata": {
        "colab_type": "code",
        "id": "ry6WPL5eZyF3",
        "colab": {}
      },
      "source": [
        "import os\n",
        "import pandas as pd\n",
        "import datetime\n",
        "import seaborn as sns\n",
        "import matplotlib.pyplot as plt\n",
        "import pprint\n",
        "import numpy as np\n",
        "import seaborn as sns\n",
        "from scipy.stats import zscore\n",
        "from sklearn import preprocessing\n",
        "%matplotlib inline"
      ],
      "execution_count": 0,
      "outputs": []
    },
    {
      "cell_type": "markdown",
      "metadata": {
        "colab_type": "text",
        "id": "630T-ogRZyF8"
      },
      "source": [
        "**<font color='teal'>  Load the csv file you created in step 3. Remember, it should be saved inside your data subfolder. Print the first five rows.</font>**"
      ]
    },
    {
      "cell_type": "code",
      "metadata": {
        "colab_type": "code",
        "id": "dMNbk0u3ZyF9",
        "colab": {
          "base_uri": "https://localhost:8080/",
          "height": 377
        },
        "outputId": "d34ca3c7-20c7-4325-e9ab-2cf4bbac48ad"
      },
      "source": [
        "df=pd.read_csv('step3_output.csv')\n",
        "df.head()"
      ],
      "execution_count": 21,
      "outputs": [
        {
          "output_type": "execute_result",
          "data": {
            "text/html": [
              "<div>\n",
              "<style scoped>\n",
              "    .dataframe tbody tr th:only-of-type {\n",
              "        vertical-align: middle;\n",
              "    }\n",
              "\n",
              "    .dataframe tbody tr th {\n",
              "        vertical-align: top;\n",
              "    }\n",
              "\n",
              "    .dataframe thead th {\n",
              "        text-align: right;\n",
              "    }\n",
              "</style>\n",
              "<table border=\"1\" class=\"dataframe\">\n",
              "  <thead>\n",
              "    <tr style=\"text-align: right;\">\n",
              "      <th></th>\n",
              "      <th>Unnamed: 0</th>\n",
              "      <th>Name</th>\n",
              "      <th>Unnamed: 0.1</th>\n",
              "      <th>state</th>\n",
              "      <th>summit_elev</th>\n",
              "      <th>vertical_drop</th>\n",
              "      <th>trams</th>\n",
              "      <th>fastEight</th>\n",
              "      <th>fastSixes</th>\n",
              "      <th>fastQuads</th>\n",
              "      <th>quad</th>\n",
              "      <th>triple</th>\n",
              "      <th>double</th>\n",
              "      <th>surface</th>\n",
              "      <th>total_chairs</th>\n",
              "      <th>Runs</th>\n",
              "      <th>TerrainParks</th>\n",
              "      <th>LongestRun_mi</th>\n",
              "      <th>SkiableTerrain_ac</th>\n",
              "      <th>Snow Making_ac</th>\n",
              "      <th>yearsOpen</th>\n",
              "      <th>averageSnowfall</th>\n",
              "      <th>NightSkiing_ac</th>\n",
              "      <th>cluster</th>\n",
              "    </tr>\n",
              "  </thead>\n",
              "  <tbody>\n",
              "    <tr>\n",
              "      <th>0</th>\n",
              "      <td>0</td>\n",
              "      <td>Eaglecrest Ski Area</td>\n",
              "      <td>1</td>\n",
              "      <td>Alaska</td>\n",
              "      <td>2600</td>\n",
              "      <td>1540</td>\n",
              "      <td>0</td>\n",
              "      <td>0.0</td>\n",
              "      <td>0</td>\n",
              "      <td>0</td>\n",
              "      <td>0</td>\n",
              "      <td>0</td>\n",
              "      <td>4</td>\n",
              "      <td>0</td>\n",
              "      <td>4</td>\n",
              "      <td>36.0</td>\n",
              "      <td>1.0</td>\n",
              "      <td>2.0</td>\n",
              "      <td>640.0</td>\n",
              "      <td>60.000000</td>\n",
              "      <td>44.0</td>\n",
              "      <td>350.0</td>\n",
              "      <td>0.0</td>\n",
              "      <td>1</td>\n",
              "    </tr>\n",
              "    <tr>\n",
              "      <th>1</th>\n",
              "      <td>1</td>\n",
              "      <td>Hilltop Ski Area</td>\n",
              "      <td>2</td>\n",
              "      <td>Alaska</td>\n",
              "      <td>2090</td>\n",
              "      <td>294</td>\n",
              "      <td>0</td>\n",
              "      <td>0.0</td>\n",
              "      <td>0</td>\n",
              "      <td>0</td>\n",
              "      <td>0</td>\n",
              "      <td>1</td>\n",
              "      <td>0</td>\n",
              "      <td>2</td>\n",
              "      <td>3</td>\n",
              "      <td>13.0</td>\n",
              "      <td>1.0</td>\n",
              "      <td>1.0</td>\n",
              "      <td>30.0</td>\n",
              "      <td>30.000000</td>\n",
              "      <td>36.0</td>\n",
              "      <td>69.0</td>\n",
              "      <td>30.0</td>\n",
              "      <td>2</td>\n",
              "    </tr>\n",
              "    <tr>\n",
              "      <th>2</th>\n",
              "      <td>2</td>\n",
              "      <td>Arizona Snowbowl</td>\n",
              "      <td>3</td>\n",
              "      <td>Arizona</td>\n",
              "      <td>11500</td>\n",
              "      <td>2300</td>\n",
              "      <td>0</td>\n",
              "      <td>0.0</td>\n",
              "      <td>1</td>\n",
              "      <td>0</td>\n",
              "      <td>2</td>\n",
              "      <td>2</td>\n",
              "      <td>1</td>\n",
              "      <td>2</td>\n",
              "      <td>8</td>\n",
              "      <td>55.0</td>\n",
              "      <td>4.0</td>\n",
              "      <td>2.0</td>\n",
              "      <td>777.0</td>\n",
              "      <td>104.000000</td>\n",
              "      <td>81.0</td>\n",
              "      <td>260.0</td>\n",
              "      <td>0.0</td>\n",
              "      <td>0</td>\n",
              "    </tr>\n",
              "    <tr>\n",
              "      <th>3</th>\n",
              "      <td>3</td>\n",
              "      <td>Sunrise Park Resort</td>\n",
              "      <td>4</td>\n",
              "      <td>Arizona</td>\n",
              "      <td>11100</td>\n",
              "      <td>1800</td>\n",
              "      <td>0</td>\n",
              "      <td>0.0</td>\n",
              "      <td>0</td>\n",
              "      <td>1</td>\n",
              "      <td>2</td>\n",
              "      <td>3</td>\n",
              "      <td>1</td>\n",
              "      <td>0</td>\n",
              "      <td>7</td>\n",
              "      <td>65.0</td>\n",
              "      <td>2.0</td>\n",
              "      <td>1.2</td>\n",
              "      <td>800.0</td>\n",
              "      <td>80.000000</td>\n",
              "      <td>49.0</td>\n",
              "      <td>250.0</td>\n",
              "      <td>80.0</td>\n",
              "      <td>0</td>\n",
              "    </tr>\n",
              "    <tr>\n",
              "      <th>4</th>\n",
              "      <td>4</td>\n",
              "      <td>Yosemite Ski &amp; Snowboard Area</td>\n",
              "      <td>5</td>\n",
              "      <td>California</td>\n",
              "      <td>7800</td>\n",
              "      <td>600</td>\n",
              "      <td>0</td>\n",
              "      <td>0.0</td>\n",
              "      <td>0</td>\n",
              "      <td>0</td>\n",
              "      <td>0</td>\n",
              "      <td>1</td>\n",
              "      <td>3</td>\n",
              "      <td>1</td>\n",
              "      <td>5</td>\n",
              "      <td>10.0</td>\n",
              "      <td>2.0</td>\n",
              "      <td>0.4</td>\n",
              "      <td>88.0</td>\n",
              "      <td>174.873239</td>\n",
              "      <td>84.0</td>\n",
              "      <td>300.0</td>\n",
              "      <td>0.0</td>\n",
              "      <td>0</td>\n",
              "    </tr>\n",
              "  </tbody>\n",
              "</table>\n",
              "</div>"
            ],
            "text/plain": [
              "   Unnamed: 0                           Name  ...  NightSkiing_ac cluster\n",
              "0           0            Eaglecrest Ski Area  ...             0.0       1\n",
              "1           1               Hilltop Ski Area  ...            30.0       2\n",
              "2           2               Arizona Snowbowl  ...             0.0       0\n",
              "3           3            Sunrise Park Resort  ...            80.0       0\n",
              "4           4  Yosemite Ski & Snowboard Area  ...             0.0       0\n",
              "\n",
              "[5 rows x 24 columns]"
            ]
          },
          "metadata": {
            "tags": []
          },
          "execution_count": 21
        }
      ]
    },
    {
      "cell_type": "markdown",
      "metadata": {
        "colab_type": "text",
        "id": "zkBHf9smZyGB"
      },
      "source": [
        "## Create dummy features for categorical variables"
      ]
    },
    {
      "cell_type": "markdown",
      "metadata": {
        "colab_type": "text",
        "id": "vWKHm0NhAnrJ"
      },
      "source": [
        "**<font color='teal'> Create dummy variables for `State`. Add the dummies back to the dataframe and remove the original column for `State`. </font>**"
      ]
    },
    {
      "cell_type": "code",
      "metadata": {
        "colab_type": "code",
        "id": "lZqWk8ltZyGZ",
        "colab": {
          "base_uri": "https://localhost:8080/",
          "height": 377
        },
        "outputId": "24d7bd78-626b-4310-a8b0-e1e35f716874"
      },
      "source": [
        "dfo=df['state'] # select object type columns\n",
        "dummy_state_values= pd.get_dummies(dfo)\n",
        "dummy_state_values\n",
        "df=pd.concat([df,dummy_state_values],axis=1)\n",
        "del(df['state'])\n",
        "df.head()\n"
      ],
      "execution_count": 22,
      "outputs": [
        {
          "output_type": "execute_result",
          "data": {
            "text/html": [
              "<div>\n",
              "<style scoped>\n",
              "    .dataframe tbody tr th:only-of-type {\n",
              "        vertical-align: middle;\n",
              "    }\n",
              "\n",
              "    .dataframe tbody tr th {\n",
              "        vertical-align: top;\n",
              "    }\n",
              "\n",
              "    .dataframe thead th {\n",
              "        text-align: right;\n",
              "    }\n",
              "</style>\n",
              "<table border=\"1\" class=\"dataframe\">\n",
              "  <thead>\n",
              "    <tr style=\"text-align: right;\">\n",
              "      <th></th>\n",
              "      <th>Unnamed: 0</th>\n",
              "      <th>Name</th>\n",
              "      <th>Unnamed: 0.1</th>\n",
              "      <th>summit_elev</th>\n",
              "      <th>vertical_drop</th>\n",
              "      <th>trams</th>\n",
              "      <th>fastEight</th>\n",
              "      <th>fastSixes</th>\n",
              "      <th>fastQuads</th>\n",
              "      <th>quad</th>\n",
              "      <th>triple</th>\n",
              "      <th>double</th>\n",
              "      <th>surface</th>\n",
              "      <th>total_chairs</th>\n",
              "      <th>Runs</th>\n",
              "      <th>TerrainParks</th>\n",
              "      <th>LongestRun_mi</th>\n",
              "      <th>SkiableTerrain_ac</th>\n",
              "      <th>Snow Making_ac</th>\n",
              "      <th>yearsOpen</th>\n",
              "      <th>averageSnowfall</th>\n",
              "      <th>NightSkiing_ac</th>\n",
              "      <th>cluster</th>\n",
              "      <th>Alaska</th>\n",
              "      <th>Arizona</th>\n",
              "      <th>California</th>\n",
              "      <th>Colorado</th>\n",
              "      <th>Connecticut</th>\n",
              "      <th>Idaho</th>\n",
              "      <th>Illinois</th>\n",
              "      <th>Indiana</th>\n",
              "      <th>Iowa</th>\n",
              "      <th>Maine</th>\n",
              "      <th>Maryland</th>\n",
              "      <th>Massachusetts</th>\n",
              "      <th>Michigan</th>\n",
              "      <th>Minnesota</th>\n",
              "      <th>Missouri</th>\n",
              "      <th>Montana</th>\n",
              "      <th>Nevada</th>\n",
              "      <th>New Hampshire</th>\n",
              "      <th>New Jersey</th>\n",
              "      <th>New Mexico</th>\n",
              "      <th>New York</th>\n",
              "      <th>North Carolina</th>\n",
              "      <th>Ohio</th>\n",
              "      <th>Oregon</th>\n",
              "      <th>Pennsylvania</th>\n",
              "      <th>Rhode Island</th>\n",
              "      <th>South Dakota</th>\n",
              "      <th>Tennessee</th>\n",
              "      <th>Utah</th>\n",
              "      <th>Vermont</th>\n",
              "      <th>Virginia</th>\n",
              "      <th>Washington</th>\n",
              "      <th>West Virginia</th>\n",
              "      <th>Wisconsin</th>\n",
              "      <th>Wyoming</th>\n",
              "    </tr>\n",
              "  </thead>\n",
              "  <tbody>\n",
              "    <tr>\n",
              "      <th>0</th>\n",
              "      <td>0</td>\n",
              "      <td>Eaglecrest Ski Area</td>\n",
              "      <td>1</td>\n",
              "      <td>2600</td>\n",
              "      <td>1540</td>\n",
              "      <td>0</td>\n",
              "      <td>0.0</td>\n",
              "      <td>0</td>\n",
              "      <td>0</td>\n",
              "      <td>0</td>\n",
              "      <td>0</td>\n",
              "      <td>4</td>\n",
              "      <td>0</td>\n",
              "      <td>4</td>\n",
              "      <td>36.0</td>\n",
              "      <td>1.0</td>\n",
              "      <td>2.0</td>\n",
              "      <td>640.0</td>\n",
              "      <td>60.000000</td>\n",
              "      <td>44.0</td>\n",
              "      <td>350.0</td>\n",
              "      <td>0.0</td>\n",
              "      <td>1</td>\n",
              "      <td>1</td>\n",
              "      <td>0</td>\n",
              "      <td>0</td>\n",
              "      <td>0</td>\n",
              "      <td>0</td>\n",
              "      <td>0</td>\n",
              "      <td>0</td>\n",
              "      <td>0</td>\n",
              "      <td>0</td>\n",
              "      <td>0</td>\n",
              "      <td>0</td>\n",
              "      <td>0</td>\n",
              "      <td>0</td>\n",
              "      <td>0</td>\n",
              "      <td>0</td>\n",
              "      <td>0</td>\n",
              "      <td>0</td>\n",
              "      <td>0</td>\n",
              "      <td>0</td>\n",
              "      <td>0</td>\n",
              "      <td>0</td>\n",
              "      <td>0</td>\n",
              "      <td>0</td>\n",
              "      <td>0</td>\n",
              "      <td>0</td>\n",
              "      <td>0</td>\n",
              "      <td>0</td>\n",
              "      <td>0</td>\n",
              "      <td>0</td>\n",
              "      <td>0</td>\n",
              "      <td>0</td>\n",
              "      <td>0</td>\n",
              "      <td>0</td>\n",
              "      <td>0</td>\n",
              "      <td>0</td>\n",
              "    </tr>\n",
              "    <tr>\n",
              "      <th>1</th>\n",
              "      <td>1</td>\n",
              "      <td>Hilltop Ski Area</td>\n",
              "      <td>2</td>\n",
              "      <td>2090</td>\n",
              "      <td>294</td>\n",
              "      <td>0</td>\n",
              "      <td>0.0</td>\n",
              "      <td>0</td>\n",
              "      <td>0</td>\n",
              "      <td>0</td>\n",
              "      <td>1</td>\n",
              "      <td>0</td>\n",
              "      <td>2</td>\n",
              "      <td>3</td>\n",
              "      <td>13.0</td>\n",
              "      <td>1.0</td>\n",
              "      <td>1.0</td>\n",
              "      <td>30.0</td>\n",
              "      <td>30.000000</td>\n",
              "      <td>36.0</td>\n",
              "      <td>69.0</td>\n",
              "      <td>30.0</td>\n",
              "      <td>2</td>\n",
              "      <td>1</td>\n",
              "      <td>0</td>\n",
              "      <td>0</td>\n",
              "      <td>0</td>\n",
              "      <td>0</td>\n",
              "      <td>0</td>\n",
              "      <td>0</td>\n",
              "      <td>0</td>\n",
              "      <td>0</td>\n",
              "      <td>0</td>\n",
              "      <td>0</td>\n",
              "      <td>0</td>\n",
              "      <td>0</td>\n",
              "      <td>0</td>\n",
              "      <td>0</td>\n",
              "      <td>0</td>\n",
              "      <td>0</td>\n",
              "      <td>0</td>\n",
              "      <td>0</td>\n",
              "      <td>0</td>\n",
              "      <td>0</td>\n",
              "      <td>0</td>\n",
              "      <td>0</td>\n",
              "      <td>0</td>\n",
              "      <td>0</td>\n",
              "      <td>0</td>\n",
              "      <td>0</td>\n",
              "      <td>0</td>\n",
              "      <td>0</td>\n",
              "      <td>0</td>\n",
              "      <td>0</td>\n",
              "      <td>0</td>\n",
              "      <td>0</td>\n",
              "      <td>0</td>\n",
              "      <td>0</td>\n",
              "    </tr>\n",
              "    <tr>\n",
              "      <th>2</th>\n",
              "      <td>2</td>\n",
              "      <td>Arizona Snowbowl</td>\n",
              "      <td>3</td>\n",
              "      <td>11500</td>\n",
              "      <td>2300</td>\n",
              "      <td>0</td>\n",
              "      <td>0.0</td>\n",
              "      <td>1</td>\n",
              "      <td>0</td>\n",
              "      <td>2</td>\n",
              "      <td>2</td>\n",
              "      <td>1</td>\n",
              "      <td>2</td>\n",
              "      <td>8</td>\n",
              "      <td>55.0</td>\n",
              "      <td>4.0</td>\n",
              "      <td>2.0</td>\n",
              "      <td>777.0</td>\n",
              "      <td>104.000000</td>\n",
              "      <td>81.0</td>\n",
              "      <td>260.0</td>\n",
              "      <td>0.0</td>\n",
              "      <td>0</td>\n",
              "      <td>0</td>\n",
              "      <td>1</td>\n",
              "      <td>0</td>\n",
              "      <td>0</td>\n",
              "      <td>0</td>\n",
              "      <td>0</td>\n",
              "      <td>0</td>\n",
              "      <td>0</td>\n",
              "      <td>0</td>\n",
              "      <td>0</td>\n",
              "      <td>0</td>\n",
              "      <td>0</td>\n",
              "      <td>0</td>\n",
              "      <td>0</td>\n",
              "      <td>0</td>\n",
              "      <td>0</td>\n",
              "      <td>0</td>\n",
              "      <td>0</td>\n",
              "      <td>0</td>\n",
              "      <td>0</td>\n",
              "      <td>0</td>\n",
              "      <td>0</td>\n",
              "      <td>0</td>\n",
              "      <td>0</td>\n",
              "      <td>0</td>\n",
              "      <td>0</td>\n",
              "      <td>0</td>\n",
              "      <td>0</td>\n",
              "      <td>0</td>\n",
              "      <td>0</td>\n",
              "      <td>0</td>\n",
              "      <td>0</td>\n",
              "      <td>0</td>\n",
              "      <td>0</td>\n",
              "      <td>0</td>\n",
              "    </tr>\n",
              "    <tr>\n",
              "      <th>3</th>\n",
              "      <td>3</td>\n",
              "      <td>Sunrise Park Resort</td>\n",
              "      <td>4</td>\n",
              "      <td>11100</td>\n",
              "      <td>1800</td>\n",
              "      <td>0</td>\n",
              "      <td>0.0</td>\n",
              "      <td>0</td>\n",
              "      <td>1</td>\n",
              "      <td>2</td>\n",
              "      <td>3</td>\n",
              "      <td>1</td>\n",
              "      <td>0</td>\n",
              "      <td>7</td>\n",
              "      <td>65.0</td>\n",
              "      <td>2.0</td>\n",
              "      <td>1.2</td>\n",
              "      <td>800.0</td>\n",
              "      <td>80.000000</td>\n",
              "      <td>49.0</td>\n",
              "      <td>250.0</td>\n",
              "      <td>80.0</td>\n",
              "      <td>0</td>\n",
              "      <td>0</td>\n",
              "      <td>1</td>\n",
              "      <td>0</td>\n",
              "      <td>0</td>\n",
              "      <td>0</td>\n",
              "      <td>0</td>\n",
              "      <td>0</td>\n",
              "      <td>0</td>\n",
              "      <td>0</td>\n",
              "      <td>0</td>\n",
              "      <td>0</td>\n",
              "      <td>0</td>\n",
              "      <td>0</td>\n",
              "      <td>0</td>\n",
              "      <td>0</td>\n",
              "      <td>0</td>\n",
              "      <td>0</td>\n",
              "      <td>0</td>\n",
              "      <td>0</td>\n",
              "      <td>0</td>\n",
              "      <td>0</td>\n",
              "      <td>0</td>\n",
              "      <td>0</td>\n",
              "      <td>0</td>\n",
              "      <td>0</td>\n",
              "      <td>0</td>\n",
              "      <td>0</td>\n",
              "      <td>0</td>\n",
              "      <td>0</td>\n",
              "      <td>0</td>\n",
              "      <td>0</td>\n",
              "      <td>0</td>\n",
              "      <td>0</td>\n",
              "      <td>0</td>\n",
              "      <td>0</td>\n",
              "    </tr>\n",
              "    <tr>\n",
              "      <th>4</th>\n",
              "      <td>4</td>\n",
              "      <td>Yosemite Ski &amp; Snowboard Area</td>\n",
              "      <td>5</td>\n",
              "      <td>7800</td>\n",
              "      <td>600</td>\n",
              "      <td>0</td>\n",
              "      <td>0.0</td>\n",
              "      <td>0</td>\n",
              "      <td>0</td>\n",
              "      <td>0</td>\n",
              "      <td>1</td>\n",
              "      <td>3</td>\n",
              "      <td>1</td>\n",
              "      <td>5</td>\n",
              "      <td>10.0</td>\n",
              "      <td>2.0</td>\n",
              "      <td>0.4</td>\n",
              "      <td>88.0</td>\n",
              "      <td>174.873239</td>\n",
              "      <td>84.0</td>\n",
              "      <td>300.0</td>\n",
              "      <td>0.0</td>\n",
              "      <td>0</td>\n",
              "      <td>0</td>\n",
              "      <td>0</td>\n",
              "      <td>1</td>\n",
              "      <td>0</td>\n",
              "      <td>0</td>\n",
              "      <td>0</td>\n",
              "      <td>0</td>\n",
              "      <td>0</td>\n",
              "      <td>0</td>\n",
              "      <td>0</td>\n",
              "      <td>0</td>\n",
              "      <td>0</td>\n",
              "      <td>0</td>\n",
              "      <td>0</td>\n",
              "      <td>0</td>\n",
              "      <td>0</td>\n",
              "      <td>0</td>\n",
              "      <td>0</td>\n",
              "      <td>0</td>\n",
              "      <td>0</td>\n",
              "      <td>0</td>\n",
              "      <td>0</td>\n",
              "      <td>0</td>\n",
              "      <td>0</td>\n",
              "      <td>0</td>\n",
              "      <td>0</td>\n",
              "      <td>0</td>\n",
              "      <td>0</td>\n",
              "      <td>0</td>\n",
              "      <td>0</td>\n",
              "      <td>0</td>\n",
              "      <td>0</td>\n",
              "      <td>0</td>\n",
              "      <td>0</td>\n",
              "      <td>0</td>\n",
              "    </tr>\n",
              "  </tbody>\n",
              "</table>\n",
              "</div>"
            ],
            "text/plain": [
              "   Unnamed: 0                           Name  ...  Wisconsin  Wyoming\n",
              "0           0            Eaglecrest Ski Area  ...          0        0\n",
              "1           1               Hilltop Ski Area  ...          0        0\n",
              "2           2               Arizona Snowbowl  ...          0        0\n",
              "3           3            Sunrise Park Resort  ...          0        0\n",
              "4           4  Yosemite Ski & Snowboard Area  ...          0        0\n",
              "\n",
              "[5 rows x 58 columns]"
            ]
          },
          "metadata": {
            "tags": []
          },
          "execution_count": 22
        }
      ]
    },
    {
      "cell_type": "markdown",
      "metadata": {
        "colab_type": "text",
        "id": "HnDVhE1-ZyGF"
      },
      "source": [
        "## Standardize the magnitude of numeric features\n",
        "\n",
        "**<font color='teal'> Using sklearn preprocessing, standardize the scale of the features of the dataframe except the name of the resort, which you don't need in the dataframe for modeling so it can be dropped here as well. You should  hold out your response variable(s) so that you can have their true values available for model performance review. Let's set `AdultWeekend` to the y variable as your response for scaling and modeling. Later, you will go back and consider the `AdultWeekday`, `dayOpenLastYear`, and `projectedDaysOpen`. For now leave, them in the development dataframe. </font>**"
      ]
    },
    {
      "cell_type": "code",
      "metadata": {
        "id": "GxahYZvDj0_m",
        "colab_type": "code",
        "colab": {
          "base_uri": "https://localhost:8080/",
          "height": 238
        },
        "outputId": "3a341fca-4994-40a4-8be8-4426a4263b9d"
      },
      "source": [
        "del(df['Name'])\n",
        "scaled=preprocessing.scale(df)\n",
        "scaled"
      ],
      "execution_count": 30,
      "outputs": [
        {
          "output_type": "execute_result",
          "data": {
            "text/plain": [
              "array([[-1.72618937, -1.78748842, -0.44492154, ..., -0.11724208,\n",
              "        -0.23947374, -0.16695677],\n",
              "       [-1.71444658, -1.77672811, -0.59120375, ..., -0.11724208,\n",
              "        -0.23947374, -0.16695677],\n",
              "       [-1.7027038 , -1.7659678 ,  2.10784639, ..., -0.11724208,\n",
              "        -0.23947374, -0.16695677],\n",
              "       ...,\n",
              "       [ 1.7027038 ,  1.72037326,  1.04887794, ..., -0.11724208,\n",
              "        -0.23947374,  5.98957428],\n",
              "       [ 1.71444658,  1.73113357,  1.58094362, ..., -0.11724208,\n",
              "        -0.23947374,  5.98957428],\n",
              "       [ 1.72618937,  1.74189388,  1.53419068, ..., -0.11724208,\n",
              "        -0.23947374,  5.98957428]])"
            ]
          },
          "metadata": {
            "tags": []
          },
          "execution_count": 30
        }
      ]
    },
    {
      "cell_type": "markdown",
      "metadata": {
        "colab_type": "text",
        "id": "GAT8h4_mZyGK"
      },
      "source": [
        "## Split into training and testing datasets"
      ]
    },
    {
      "cell_type": "markdown",
      "metadata": {
        "colab_type": "text",
        "id": "6rdS8EGeAnrW"
      },
      "source": [
        "**<font color='teal'> Using sklearn model selectionm import train_test_split, and create a 75/25 split with the y = `AdultWeekend`. You will start by using the adult weekend ticket price as your response variable for modeling.</font>**"
      ]
    },
    {
      "cell_type": "code",
      "metadata": {
        "colab_type": "code",
        "id": "BSkPut0gguds",
        "colab": {
          "base_uri": "https://localhost:8080/",
          "height": 459
        },
        "outputId": "d6f82eaf-e9e5-4afa-8ed6-cbab3ec17322"
      },
      "source": [
        "from sklearn.model_selection import train_test_split\n",
        "split_scaled=train_test_split(scaled)\n",
        "split_scaled"
      ],
      "execution_count": 31,
      "outputs": [
        {
          "output_type": "execute_result",
          "data": {
            "text/plain": [
              "[array([[ 0.76328101,  0.75194519, -0.87516332, ..., -0.11724208,\n",
              "         -0.23947374, -0.16695677],\n",
              "        [-1.09207899, -1.05578721, -0.9325289 , ..., -0.11724208,\n",
              "         -0.23947374, -0.16695677],\n",
              "        [ 1.04510785,  1.01019267,  1.2760456 , ..., -0.11724208,\n",
              "         -0.23947374, -0.16695677],\n",
              "        ...,\n",
              "        [ 0.81025215,  0.79498643, -0.7317494 , ..., -0.11724208,\n",
              "         -0.23947374, -0.16695677],\n",
              "        [ 0.45796861,  0.45065645, -0.60984756, ..., -0.11724208,\n",
              "         -0.23947374, -0.16695677],\n",
              "        [ 0.41099747,  0.4076152 , -0.61701825, ..., -0.11724208,\n",
              "         -0.23947374, -0.16695677]]),\n",
              " array([[ 1.20950684,  1.20387829, -0.37321457, ..., -0.11724208,\n",
              "         -0.23947374, -0.16695677],\n",
              "        [ 0.18788456,  0.18164866, -0.94687029, ..., -0.11724208,\n",
              "         -0.23947374, -0.16695677],\n",
              "        [ 1.18602127,  1.17159735, -0.05254103, ..., -0.11724208,\n",
              "         -0.23947374, -0.16695677],\n",
              "        ...,\n",
              "        [ 0.98639392,  0.95639111, -1.10032319, ..., -0.11724208,\n",
              "         -0.23947374, -0.16695677],\n",
              "        [-0.14091342, -0.1411607 ,  2.04732571, ..., -0.11724208,\n",
              "         -0.23947374, -0.16695677],\n",
              "        [-0.98639392, -0.95894441, -0.97469259, ..., -0.11724208,\n",
              "         -0.23947374, -0.16695677]])]"
            ]
          },
          "metadata": {
            "tags": []
          },
          "execution_count": 31
        }
      ]
    },
    {
      "cell_type": "markdown",
      "metadata": {
        "colab_type": "text",
        "id": "UayqbwkWAnra"
      },
      "source": [
        "Here, you'll start the actual modeling work. First let's fit a multiple linear regression model to predict the `AdultWeekend` price."
      ]
    },
    {
      "cell_type": "markdown",
      "metadata": {
        "id": "M4xZzAAzar0q",
        "colab_type": "text"
      },
      "source": [
        "# Guided Capstone Step 5 - Modeling"
      ]
    },
    {
      "cell_type": "markdown",
      "metadata": {
        "id": "y-_RGBAAar0r",
        "colab_type": "text"
      },
      "source": [
        "You've cleaned and prepared the datasets, so now it's time to get into the most exciting part of this process: modeling! In this exercise, you will build three different models and compare each model's performance. In the end, you will choose the best model for proving insights to Big Mountain management.  \n",
        "\n",
        "1.   Problem Identification \n",
        "\n",
        "2.   Data Wrangling \n",
        "  \n",
        "3.   Exploratory Data Analysis \n",
        " \n",
        "4.   Pre-processing and Training Data Development\n",
        "\n",
        "5.   **Modeling**\n",
        "  * Fit Models with Training Data Set\n",
        "  * Review Model Outcomes — Iterate over additional models as needed.\n",
        "  * Identify the Final Model\n",
        "\n",
        "6.   Documentation\n",
        "  * Review the Results\n",
        "  * Present and share your findings - storytelling\n",
        "  * Finalize Code \n",
        "  * Finalize Documentation"
      ]
    },
    {
      "cell_type": "markdown",
      "metadata": {
        "colab_type": "text",
        "id": "D_wfsP_-Anra"
      },
      "source": [
        "## Fit Models with Training Data Set"
      ]
    },
    {
      "cell_type": "markdown",
      "metadata": {
        "colab_type": "text",
        "id": "CoI8S5SwAnrc"
      },
      "source": [
        "**<font color='teal'> Using sklearn, fit the model on your training dataset.</font>**"
      ]
    },
    {
      "cell_type": "markdown",
      "metadata": {
        "colab_type": "text",
        "id": "P_GFr8sRAnrd"
      },
      "source": [
        "#### Model 1"
      ]
    },
    {
      "cell_type": "code",
      "metadata": {
        "colab_type": "code",
        "id": "fW6K7uOPAnre",
        "colab": {}
      },
      "source": [
        "#all first model set\n",
        "#from sklearn import linear_model\n",
        "#from sklearn.metrics import explained_variance_score,mean_absolute_error\n",
        "#lm = linear_model.LinearRegression()\n",
        "#model = lm.fit(X_train,y_train)"
      ],
      "execution_count": 0,
      "outputs": []
    },
    {
      "cell_type": "markdown",
      "metadata": {
        "colab_type": "text",
        "id": "1fHqz9-WAnrg"
      },
      "source": [
        "**<font color='teal'> Predict on the testing dataset and score the model performance with the y_test set and the y-pred values. The explained variance is a measure of the variation explained by the model. This is also known as the R-squared value. </font>**"
      ]
    },
    {
      "cell_type": "code",
      "metadata": {
        "colab_type": "code",
        "id": "nIo01lFEAnrh",
        "colab": {}
      },
      "source": [
        ""
      ],
      "execution_count": 0,
      "outputs": []
    },
    {
      "cell_type": "markdown",
      "metadata": {
        "colab_type": "text",
        "id": "N4YS0WE2Anrk"
      },
      "source": [
        "## Review Model Outcomes — Iterate over additional models as needed."
      ]
    },
    {
      "cell_type": "code",
      "metadata": {
        "colab_type": "code",
        "id": "HSh9sGIYAnrk",
        "colab": {}
      },
      "source": [
        ""
      ],
      "execution_count": 0,
      "outputs": []
    },
    {
      "cell_type": "code",
      "metadata": {
        "colab_type": "code",
        "id": "ihzeo8tqAnro",
        "colab": {}
      },
      "source": [
        ""
      ],
      "execution_count": 0,
      "outputs": []
    },
    {
      "cell_type": "markdown",
      "metadata": {
        "colab_type": "text",
        "id": "NWJcOuSdAnrr"
      },
      "source": [
        "**<font color='teal'> Print the intercept value from the linear model. </font>**"
      ]
    },
    {
      "cell_type": "code",
      "metadata": {
        "colab_type": "code",
        "id": "3WzWejn6Anrt",
        "colab": {}
      },
      "source": [
        ""
      ],
      "execution_count": 0,
      "outputs": []
    },
    {
      "cell_type": "markdown",
      "metadata": {
        "colab_type": "text",
        "id": "edajrenAAnrv"
      },
      "source": [
        "**<font color='teal'> The intercept is the mean `AdultWeekend` price for all the resorts given the other characteristics. The addition or subtraction of each of the coefficient values in the regression are numeric adjustments applied to the intercept to provide a particular observation's value for the `AdultWeekend` resulting value. Also, because you took the time to scale your x values in the training data, you can compare each of the coefficients for the features to determine the feature's importance. Print the coefficient values from the linear model and sort in descending order to identify the top ten most important features.</font>** \n",
        "\n",
        "Hint: make sure to review the absolute value of the coefficients, because the adjustment may be positive or negative, but what you are looking for is the magnitude of impact on your response variable."
      ]
    },
    {
      "cell_type": "code",
      "metadata": {
        "colab_type": "code",
        "id": "FEKc_lmZAnrw",
        "colab": {}
      },
      "source": [
        ""
      ],
      "execution_count": 0,
      "outputs": []
    },
    {
      "cell_type": "markdown",
      "metadata": {
        "colab_type": "text",
        "id": "BpdALMoAAnry"
      },
      "source": [
        "**<font color='teal'>You should see that the top ten important features are different states. However, the state is not something the managers at the Big Mountain Resort can do anything about. Given that you care more about actionable traits associated with ticket pricing, rebuild the model without the state features and compare the results. </font>**"
      ]
    },
    {
      "cell_type": "markdown",
      "metadata": {
        "colab_type": "text",
        "id": "-mHYA1BzAnrz"
      },
      "source": [
        "#### Model 2"
      ]
    },
    {
      "cell_type": "code",
      "metadata": {
        "colab_type": "code",
        "id": "Pz1YXAdiAnr0",
        "colab": {}
      },
      "source": [
        ""
      ],
      "execution_count": 0,
      "outputs": []
    },
    {
      "cell_type": "code",
      "metadata": {
        "colab_type": "code",
        "id": "nM1EGf16Anr2",
        "colab": {}
      },
      "source": [
        ""
      ],
      "execution_count": 0,
      "outputs": []
    },
    {
      "cell_type": "markdown",
      "metadata": {
        "colab_type": "text",
        "id": "JWjQLr3LAnr6"
      },
      "source": [
        "**<font color='teal'> When reviewing your new model coefficients, note that `summit_elev` is now in the number two spot. From a managerial perspective, this is also difficult to change and highly correlated with `base_elev` and `vertical_drop`.  This time rebuild the model without the state features and without the `summit_elev` and without `base_elev`and compare the results. </font>**"
      ]
    },
    {
      "cell_type": "markdown",
      "metadata": {
        "colab_type": "text",
        "id": "RXqvcn93Anr7"
      },
      "source": [
        "#### Model 3"
      ]
    },
    {
      "cell_type": "code",
      "metadata": {
        "colab_type": "code",
        "id": "6eugnDNNAnr8",
        "colab": {}
      },
      "source": [
        ""
      ],
      "execution_count": 0,
      "outputs": []
    },
    {
      "cell_type": "code",
      "metadata": {
        "colab_type": "code",
        "id": "pq0pW7G9Anr_",
        "colab": {}
      },
      "source": [
        ""
      ],
      "execution_count": 0,
      "outputs": []
    },
    {
      "cell_type": "code",
      "metadata": {
        "colab_type": "code",
        "id": "reXlf0HAAnsG",
        "colab": {}
      },
      "source": [
        ""
      ],
      "execution_count": 0,
      "outputs": []
    },
    {
      "cell_type": "markdown",
      "metadata": {
        "colab_type": "text",
        "id": "MJvQMns6AnsI"
      },
      "source": [
        "## Identify the Final Model"
      ]
    },
    {
      "cell_type": "markdown",
      "metadata": {
        "colab_type": "text",
        "id": "LD7-3iLcAnsK"
      },
      "source": [
        "**<font color='teal'> Review the model performances in the table below and choose the best model for proving insights to Big Mountain management about what features are driving ski resort lift ticket prices. Type your choice in the final markdown cell. You will explain your selection during the next step of the guided casptone. </font>**"
      ]
    },
    {
      "cell_type": "markdown",
      "metadata": {
        "colab_type": "text",
        "id": "La5S9fRPAnsK"
      },
      "source": [
        "| Model | Explained Variance| Mean Absolute Error|Features Dropped|\n",
        "| --- | --- | --- | --- |\n",
        "| Model 1. | 0. |  |-|\n",
        "| Model 2. | 0.| |'state'|\n",
        "| Model 3. | 0. | |'state','summit_elev','base_elev'|"
      ]
    },
    {
      "cell_type": "markdown",
      "metadata": {
        "colab_type": "text",
        "id": "T2c-zn7TAnsL"
      },
      "source": [
        "Model Selection:"
      ]
    },
    {
      "cell_type": "code",
      "metadata": {
        "colab_type": "code",
        "id": "CgC0eMBrAnsM",
        "colab": {}
      },
      "source": [
        ""
      ],
      "execution_count": 0,
      "outputs": []
    }
  ]
}